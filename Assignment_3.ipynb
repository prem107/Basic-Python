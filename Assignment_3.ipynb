{
 "cells": [
  {
   "cell_type": "code",
   "execution_count": null,
   "id": "d5ab50e3",
   "metadata": {},
   "outputs": [],
   "source": [
    "#Q1. Why are functions advantageous to have in your programs?\n",
    "Ans:\n",
    "The advantages of using functions are:\n",
    "Reducing duplication of code.\n",
    "Decomposing complex problems into simpler pieces.\n",
    "Improving clarity of the code.\n",
    "Reuse of code.\n",
    "Information hiding."
   ]
  },
  {
   "cell_type": "code",
   "execution_count": null,
   "id": "9dc540c4",
   "metadata": {},
   "outputs": [],
   "source": [
    "#Q2. When does the code in a function run: when it's specified or when it's called?\n",
    "Ans:When a function is \"called\" the program \"leaves\" the current section of code and begins to \n",
    "    execute the first line inside the function.\n"
   ]
  },
  {
   "cell_type": "code",
   "execution_count": null,
   "id": "4783fb00",
   "metadata": {},
   "outputs": [],
   "source": [
    "#Q3. What statement creates a function?\n",
    "Ans:The “def” keyword is a statement for defining a function in Python. You start a function with the def keyword, \n",
    "    specify a name followed by a colon (:) sign. The “def” call creates the function object and assigns it to the name given. \n",
    "    You can further re-assign the same function object to other names."
   ]
  },
  {
   "cell_type": "code",
   "execution_count": null,
   "id": "3c653a98",
   "metadata": {},
   "outputs": [],
   "source": [
    "#Q4. What is the difference between a function and a function call?\n",
    "Ans:A function is a block of code that does a particular operation and returns a result. \n",
    "    It usually accepts inputs as parameters and returns a result. The parameters are not mandatory. \n",
    "    A function call is the code used to pass control to a function."
   ]
  },
  {
   "cell_type": "code",
   "execution_count": null,
   "id": "4c96d37a",
   "metadata": {},
   "outputs": [],
   "source": [
    "# 5. How many global scopes are there in a Python program? How many local scopes?\n",
    "Ans:There is one global scope, and a local scope is created whenever a function is called."
   ]
  },
  {
   "cell_type": "code",
   "execution_count": null,
   "id": "a5ba027c",
   "metadata": {},
   "outputs": [],
   "source": [
    "# 6. What happens to variables in a local scope when the function call returns?\n",
    "Ans:When a function returns, the local scope is destroyed, and all the variables in it are forgotten."
   ]
  },
  {
   "cell_type": "code",
   "execution_count": null,
   "id": "a3987a37",
   "metadata": {},
   "outputs": [],
   "source": [
    "# 7. What is the concept of a return value? Is it possible to have a return value in an expression?\n",
    "Ans:A return value is the value that a function call evaluates to. Like any value, a return value can be used as part of an expression."
   ]
  },
  {
   "cell_type": "code",
   "execution_count": null,
   "id": "ae85b144",
   "metadata": {},
   "outputs": [],
   "source": [
    "# 8. If a function does not have a return statement, what is the return value of a call to that function?\n",
    "Ans:If there is no return statement for a function, its return value is None."
   ]
  },
  {
   "cell_type": "code",
   "execution_count": null,
   "id": "ff880e2a",
   "metadata": {},
   "outputs": [],
   "source": [
    "# 9. How do you make a function variable refer to the global variable?\n",
    "Ans:If you want to refer to a global variable in a function, you can use the global keyword to declare which variables are global."
   ]
  },
  {
   "cell_type": "code",
   "execution_count": null,
   "id": "2a3c00b6",
   "metadata": {},
   "outputs": [],
   "source": [
    "# 10. What is the data type of None?\n",
    "Ans:The data type of None is NoneType."
   ]
  },
  {
   "cell_type": "code",
   "execution_count": null,
   "id": "8a35d926",
   "metadata": {},
   "outputs": [],
   "source": [
    "# 11. What does the sentence import areallyourpetsnamederic do?\n",
    "Ans:That import statement imports a module named areallyourpetsnamederic."
   ]
  },
  {
   "cell_type": "code",
   "execution_count": null,
   "id": "8c6f0abc",
   "metadata": {},
   "outputs": [],
   "source": [
    "# 12. If you had a bacon() feature in a spam module, what would you call it after importing spam?\n",
    "Ans:This function can be called with spam. bacon()."
   ]
  },
  {
   "cell_type": "code",
   "execution_count": null,
   "id": "13934387",
   "metadata": {},
   "outputs": [],
   "source": [
    "# 13. What can you do to save a programme from crashing if it encounters an error?\n",
    "Ans:Place the line of code that might cause an error in a try clause and use except block to handle the error."
   ]
  },
  {
   "cell_type": "code",
   "execution_count": null,
   "id": "ccdac9d3",
   "metadata": {},
   "outputs": [],
   "source": [
    "# 14. What is the purpose of the try clause? What is the purpose of the except clause?\n",
    "ANS:The code that could potentially cause an error goes in the try clause. The code that executes if an error happens goes in the except clause."
   ]
  },
  {
   "cell_type": "code",
   "execution_count": null,
   "id": "5e30b94a",
   "metadata": {},
   "outputs": [],
   "source": []
  },
  {
   "cell_type": "code",
   "execution_count": null,
   "id": "f4d14b3d",
   "metadata": {},
   "outputs": [],
   "source": []
  },
  {
   "cell_type": "code",
   "execution_count": null,
   "id": "6ebe60e7",
   "metadata": {},
   "outputs": [],
   "source": []
  },
  {
   "cell_type": "code",
   "execution_count": null,
   "id": "34e36f00",
   "metadata": {},
   "outputs": [],
   "source": []
  }
 ],
 "metadata": {
  "kernelspec": {
   "display_name": "Python 3 (ipykernel)",
   "language": "python",
   "name": "python3"
  },
  "language_info": {
   "codemirror_mode": {
    "name": "ipython",
    "version": 3
   },
   "file_extension": ".py",
   "mimetype": "text/x-python",
   "name": "python",
   "nbconvert_exporter": "python",
   "pygments_lexer": "ipython3",
   "version": "3.9.12"
  }
 },
 "nbformat": 4,
 "nbformat_minor": 5
}
