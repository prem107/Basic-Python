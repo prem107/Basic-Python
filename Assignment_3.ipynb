{
 "cells": [
  {
   "cell_type": "code",
   "execution_count": null,
   "id": "d5ab50e3",
   "metadata": {},
   "outputs": [],
   "source": [
    "#Q1. Why are functions advantageous to have in your programs?\n",
    "Ans:\n",
    "The advantages of using functions are:\n",
    "Reducing duplication of code.\n",
    "Decomposing complex problems into simpler pieces.\n",
    "Improving clarity of the code.\n",
    "Reuse of code.\n",
    "Information hiding."
   ]
  },
  {
   "cell_type": "code",
   "execution_count": null,
   "id": "9dc540c4",
   "metadata": {},
   "outputs": [],
   "source": [
    "#Q2. When does the code in a function run: when it's specified or when it's called?\n",
    "Ans:When a function is \"called\" the program \"leaves\" the current section of code and begins to \n",
    "    execute the first line inside the function.\n"
   ]
  },
  {
   "cell_type": "code",
   "execution_count": null,
   "id": "4783fb00",
   "metadata": {},
   "outputs": [],
   "source": [
    "#Q3. What statement creates a function?\n",
    "Ans:The “def” keyword is a statement for defining a function in Python. You start a function with the def keyword, \n",
    "    specify a name followed by a colon (:) sign. The “def” call creates the function object and assigns it to the name given. \n",
    "    You can further re-assign the same function object to other names."
   ]
  },
  {
   "cell_type": "code",
   "execution_count": null,
   "id": "3c653a98",
   "metadata": {},
   "outputs": [],
   "source": [
    "#Q4. What is the difference between a function and a function call?\n"
   ]
  },
  {
   "cell_type": "code",
   "execution_count": null,
   "id": "4c96d37a",
   "metadata": {},
   "outputs": [],
   "source": []
  },
  {
   "cell_type": "code",
   "execution_count": null,
   "id": "a5ba027c",
   "metadata": {},
   "outputs": [],
   "source": []
  },
  {
   "cell_type": "code",
   "execution_count": null,
   "id": "f4d14b3d",
   "metadata": {},
   "outputs": [],
   "source": []
  },
  {
   "cell_type": "code",
   "execution_count": null,
   "id": "6ebe60e7",
   "metadata": {},
   "outputs": [],
   "source": []
  },
  {
   "cell_type": "code",
   "execution_count": null,
   "id": "34e36f00",
   "metadata": {},
   "outputs": [],
   "source": []
  }
 ],
 "metadata": {
  "kernelspec": {
   "display_name": "Python 3 (ipykernel)",
   "language": "python",
   "name": "python3"
  },
  "language_info": {
   "codemirror_mode": {
    "name": "ipython",
    "version": 3
   },
   "file_extension": ".py",
   "mimetype": "text/x-python",
   "name": "python",
   "nbconvert_exporter": "python",
   "pygments_lexer": "ipython3",
   "version": "3.9.12"
  }
 },
 "nbformat": 4,
 "nbformat_minor": 5
}
