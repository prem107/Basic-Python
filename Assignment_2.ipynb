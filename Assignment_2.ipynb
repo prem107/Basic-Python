{
 "cells": [
  {
   "cell_type": "code",
   "execution_count": null,
   "id": "65eb71cc",
   "metadata": {},
   "outputs": [],
   "source": [
    "Q1. What are the two values of the Boolean data type? How do you write them?\n",
    "Ans: A variable of the primitive data type boolean can have two values: true and false (Boolean literals). or off. \n",
    "    Boolean expressions use relational and logical operators. The result of a Boolean expression is either true or false.\n",
    "    \n",
    "    True and False, using capital T and F"
   ]
  },
  {
   "cell_type": "code",
   "execution_count": 1,
   "id": "fdb533f5",
   "metadata": {},
   "outputs": [
    {
     "name": "stdout",
     "output_type": "stream",
     "text": [
      "True\n",
      "False\n"
     ]
    }
   ],
   "source": [
    "    #Eg:\n",
    "    a=True\n",
    "    b=False\n",
    "    print(a)\n",
    "    print(b)"
   ]
  },
  {
   "cell_type": "code",
   "execution_count": null,
   "id": "cd5fae8c",
   "metadata": {},
   "outputs": [],
   "source": [
    "Q2. What are the three different types of Boolean operators?\n",
    "Ans: There are three types of boolean operators \n",
    "    1.AND 2.OR 3.NOT"
   ]
  },
  {
   "cell_type": "code",
   "execution_count": null,
   "id": "79275e4c",
   "metadata": {},
   "outputs": [],
   "source": [
    "Q3. Make a list of each Boolean operator's truth tables (i.e. every possible combination of Boolean\n",
    "values for the operator and what it evaluate ).\n",
    "\n",
    "ANS:\n",
    "1. AND\n",
    "INPUT1  INPUT2   OUTPUT\n",
    "True    True     True\n",
    "True    False    False\n",
    "False   True     False\n",
    "False   False    False\n",
    "\n",
    "True is 1 and False is 0\n",
    "INPUT1  INPUT2   OUTPUT\n",
    "  1       1        1\n",
    "  1       0        0\n",
    "  0       1        0\n",
    "  1       0        0\n",
    "\n",
    "2. OR\n",
    "INPUT1  INPUT2   OUTPUT\n",
    "True    True     True\n",
    "True    False    True\n",
    "False   True     True\n",
    "False   False    False\n",
    "\n",
    "True is 1 and False is 0\n",
    "INPUT1  INPUT2   OUTPUT\n",
    "  1       1        1\n",
    "  1       0        1\n",
    "  0       1        1\n",
    "  1       0        0\n",
    "\n",
    "\n",
    "3. NOt\n",
    "INPUT1   OUTPUT\n",
    "True    False    \n",
    "False   True\n",
    "\n",
    "True is 1 and False is 0\n",
    " INPUT   OUTPUT\n",
    "  1       1        0\n",
    "  0       0        1\n",
    "\n"
   ]
  },
  {
   "cell_type": "code",
   "execution_count": 7,
   "id": "d4aca9ce",
   "metadata": {},
   "outputs": [
    {
     "name": "stdout",
     "output_type": "stream",
     "text": [
      "False\n",
      "False\n",
      "True\n",
      "False\n",
      "False\n",
      "True\n"
     ]
    }
   ],
   "source": [
    "#Q4. What are the values of the following expressions?\n",
    "print ((5 > 4) and (3 == 5))\n",
    "print (not(5 > 4))\n",
    "print ((5 > 4) or (3 == 5))\n",
    "print (not((5 > 4) or (3 == 5)))\n",
    "print ((True and True) and (True == False))\n",
    "print ((not False) or (not True))\n"
   ]
  },
  {
   "cell_type": "code",
   "execution_count": null,
   "id": "4e5ca800",
   "metadata": {},
   "outputs": [],
   "source": [
    "Q5. What are the six comparison operators?\n",
    "Ans: \n",
    "    1. ==\n",
    "    2. != \n",
    "    3. < \n",
    "    4. > \n",
    "    5. <=  \n",
    "    6. >=\n"
   ]
  },
  {
   "cell_type": "code",
   "execution_count": null,
   "id": "5017e1f4",
   "metadata": {},
   "outputs": [],
   "source": [
    "6. How do you tell the difference between the equal to and assignment operators?Describe a condition and \n",
    "when you would use one.\n",
    "And: The “=” is an assignment operator is used to assign the value on the right to the variable on the left. \n",
    "     The '==' operator checks whether the two given operands are equal or not. If so, it returns true. \n",
    "        Otherwise it returns false."
   ]
  },
  {
   "cell_type": "code",
   "execution_count": 8,
   "id": "fad8ee0c",
   "metadata": {},
   "outputs": [
    {
     "name": "stdout",
     "output_type": "stream",
     "text": [
      "False\n"
     ]
    }
   ],
   "source": [
    "#Eg. Equal to Operator\n",
    "if(1==10):\n",
    "    print(\"True\")\n",
    "else:\n",
    "    print(\"False\")"
   ]
  },
  {
   "cell_type": "code",
   "execution_count": 14,
   "id": "6235bd18",
   "metadata": {},
   "outputs": [
    {
     "name": "stdout",
     "output_type": "stream",
     "text": [
      "price =  500\n"
     ]
    }
   ],
   "source": [
    "#Eg. Assibnment Oprator\n",
    "price = 500\n",
    "print(\"price = \",price)"
   ]
  },
  {
   "cell_type": "code",
   "execution_count": 16,
   "id": "34cfd3e5",
   "metadata": {},
   "outputs": [
    {
     "name": "stdout",
     "output_type": "stream",
     "text": [
      "ham\n",
      "spam\n",
      "spam\n"
     ]
    }
   ],
   "source": [
    "#7.Identify the three blocks in this code:\n",
    "spam = 0\n",
    "if spam == 10:\n",
    "    print('eggs') #Block 1\n",
    "if spam > 5:\n",
    "    print('bacon') #Block 2\n",
    "else:\n",
    "    print('ham') #Block 3\n",
    "    print('spam')\n",
    "    print('spam')\n",
    "\n"
   ]
  },
  {
   "cell_type": "code",
   "execution_count": 25,
   "id": "27fd3c38",
   "metadata": {},
   "outputs": [
    {
     "name": "stdout",
     "output_type": "stream",
     "text": [
      "Input a No.  3\n",
      "Greetings!\n"
     ]
    }
   ],
   "source": [
    "# Q8. Write code that prints Hello if 1 is stored in spam, prints Howdy if 2 is stored in spam, and prints Greetings! \n",
    "#   if anything else is stored in spam.\n",
    "spam = int(input(\"Input a No.  \"))\n",
    "if spam == 1:\n",
    "    print(\"Hello\")\n",
    "elif spam == 2:\n",
    "    print(\"Howdy\")\n",
    "else:\n",
    "    print(\"Greetings!\")\n",
    "    "
   ]
  },
  {
   "cell_type": "code",
   "execution_count": null,
   "id": "29206d20",
   "metadata": {},
   "outputs": [],
   "source": [
    "Q9.If your programme is stuck in an endless loop, what keys you’ll press?\n",
    "Ans: If program is stuck in endless loop we will press ctrl+c."
   ]
  },
  {
   "cell_type": "code",
   "execution_count": null,
   "id": "1e9cd9e1",
   "metadata": {},
   "outputs": [],
   "source": [
    "Q10. How can you tell the difference between break and continue?\n",
    "Ans: \n",
    "    Break: 1.The Break statement is used to exit from the loop constructs.\n",
    "           2.The break statement is usually used with the switch statement, and it can also use it within the while loop, \n",
    "             do-while loop, or the for-loop.\n",
    "           3.When a break statement is encountered then the control is exited from the loop construct immediately.\n",
    "            \n",
    "Continue:  1.The continue statement is not used to exit from the loop constructs.\n",
    "           2.The continue statement is not used with the switch statement, but it can be used within the while loop, \n",
    "             do-while loop, or for-loop.\n",
    "           3.When the continue statement is encountered then the control automatically passed from the beginning of the loop\n",
    "             statement.\n",
    "        "
   ]
  },
  {
   "cell_type": "code",
   "execution_count": 34,
   "id": "77329f27",
   "metadata": {},
   "outputs": [
    {
     "name": "stdout",
     "output_type": "stream",
     "text": [
      "0\n",
      "1\n",
      "2\n"
     ]
    }
   ],
   "source": [
    "#Eg. Break\n",
    "for i in range(15):\n",
    "    if (i==3):\n",
    "        break\n",
    "    print(i)"
   ]
  },
  {
   "cell_type": "code",
   "execution_count": 35,
   "id": "13d928e1",
   "metadata": {},
   "outputs": [
    {
     "name": "stdout",
     "output_type": "stream",
     "text": [
      "0\n",
      "1\n",
      "2\n",
      "4\n",
      "5\n",
      "6\n",
      "7\n",
      "8\n",
      "9\n",
      "10\n",
      "11\n",
      "12\n",
      "13\n",
      "14\n"
     ]
    }
   ],
   "source": [
    "#Eg Continue\n",
    "for i in range(15):\n",
    "    if(i==3):\n",
    "        continue\n",
    "    print(i)"
   ]
  },
  {
   "cell_type": "code",
   "execution_count": 37,
   "id": "9044f6c9",
   "metadata": {},
   "outputs": [
    {
     "name": "stdout",
     "output_type": "stream",
     "text": [
      "0\n",
      "1\n",
      "2\n",
      "3\n",
      "4\n",
      "5\n",
      "6\n",
      "7\n",
      "8\n",
      "9\n"
     ]
    }
   ],
   "source": [
    "#Q11. In a for loop, what is the difference between range(10), range(0, 10), and range(0, 10, 1)?\n",
    "for i in range(10):\n",
    "    print(i)"
   ]
  },
  {
   "cell_type": "code",
   "execution_count": 38,
   "id": "1104b033",
   "metadata": {},
   "outputs": [
    {
     "name": "stdout",
     "output_type": "stream",
     "text": [
      "0\n",
      "1\n",
      "2\n",
      "3\n",
      "4\n",
      "5\n",
      "6\n",
      "7\n",
      "8\n",
      "9\n"
     ]
    }
   ],
   "source": [
    "for i in range(0,10):\n",
    "    print(i)"
   ]
  },
  {
   "cell_type": "code",
   "execution_count": 39,
   "id": "2e9e0c6d",
   "metadata": {},
   "outputs": [
    {
     "name": "stdout",
     "output_type": "stream",
     "text": [
      "0\n",
      "1\n",
      "2\n",
      "3\n",
      "4\n",
      "5\n",
      "6\n",
      "7\n",
      "8\n",
      "9\n"
     ]
    }
   ],
   "source": [
    "for i in range(0,10,1):\n",
    "    print(i)"
   ]
  },
  {
   "cell_type": "code",
   "execution_count": 40,
   "id": "76e59e26",
   "metadata": {},
   "outputs": [
    {
     "name": "stdout",
     "output_type": "stream",
     "text": [
      "1\n",
      "2\n",
      "3\n",
      "4\n",
      "5\n",
      "6\n",
      "7\n",
      "8\n",
      "9\n",
      "10\n"
     ]
    }
   ],
   "source": [
    "#Q12. Write a short program that prints the numbers 1 to 10 using a for loop. Then write an equivalent program \n",
    "#     that prints the numbers 1 to 10 using a while loop.\n",
    "for i in range(1,11):\n",
    "    print(i)\n"
   ]
  },
  {
   "cell_type": "code",
   "execution_count": 41,
   "id": "9d7e2edc",
   "metadata": {},
   "outputs": [
    {
     "name": "stdout",
     "output_type": "stream",
     "text": [
      "1\n",
      "2\n",
      "3\n",
      "4\n",
      "5\n",
      "6\n",
      "7\n",
      "8\n",
      "9\n",
      "10\n"
     ]
    }
   ],
   "source": [
    "a = 1\n",
    "while a<=10:\n",
    "    print(a)\n",
    "    a+=1"
   ]
  },
  {
   "cell_type": "code",
   "execution_count": null,
   "id": "263d6303",
   "metadata": {},
   "outputs": [],
   "source": [
    "#Q 13. If you had a function named bacon() inside a module named spam, how would you call it after importing spam?\n",
    "Ans: This function can be called with spam.bacon()."
   ]
  }
 ],
 "metadata": {
  "kernelspec": {
   "display_name": "Python 3 (ipykernel)",
   "language": "python",
   "name": "python3"
  },
  "language_info": {
   "codemirror_mode": {
    "name": "ipython",
    "version": 3
   },
   "file_extension": ".py",
   "mimetype": "text/x-python",
   "name": "python",
   "nbconvert_exporter": "python",
   "pygments_lexer": "ipython3",
   "version": "3.9.12"
  }
 },
 "nbformat": 4,
 "nbformat_minor": 5
}
