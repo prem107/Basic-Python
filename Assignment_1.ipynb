{
 "cells": [
  {
   "cell_type": "code",
   "execution_count": null,
   "id": "8ed829f9",
   "metadata": {},
   "outputs": [],
   "source": [
    "1. In the below elements which of them are values or an expression? eg:- values can be\n",
    "integer or string and expressions will be mathematical operators.\n",
    "*\n",
    "'hello'\n",
    "-87.8\n",
    "-\n",
    "/\n",
    "+\n",
    "6\n"
   ]
  },
  {
   "cell_type": "code",
   "execution_count": null,
   "id": "3f315b55",
   "metadata": {},
   "outputs": [],
   "source": [
    "Ans:There are a total of fourem operators and three expressions \n",
    "    operators: *,-,+,/\n",
    "    expressions : 'hello',87.8,6"
   ]
  },
  {
   "cell_type": "code",
   "execution_count": null,
   "id": "23ca1d47",
   "metadata": {},
   "outputs": [],
   "source": [
    "2. What is the difference between string and variable?\n",
    "Ans:A Variable is a store of information, and a String is a type of information you would store in a Variable. \n",
    "    A String is usually words, enclosed with \"\" Eg String x =\"Prem\" X is the Variable, and we declared it as a String, \n",
    "    use the single = to assign the text to it."
   ]
  },
  {
   "cell_type": "code",
   "execution_count": null,
   "id": "ff4b1cdd",
   "metadata": {},
   "outputs": [],
   "source": [
    "3. Describe three different data types.\n",
    "Ans:Three fundamental Data types in python are int, float, complex.\n",
    "\n",
    "int data type: We can use int data type to represent whole numbers (integral values)\n",
    "float data type: We can use float data type to represent floating point values (decimal values)\n",
    "complex data type: Complex number is represented by complex class. It is specified as (real part) + (imaginary part)j."
   ]
  },
  {
   "cell_type": "code",
   "execution_count": 2,
   "id": "3079ae07",
   "metadata": {},
   "outputs": [
    {
     "name": "stdout",
     "output_type": "stream",
     "text": [
      "55 <class 'int'>\n",
      "5.885 <class 'float'>\n",
      "(4+10.5j) <class 'complex'>\n"
     ]
    }
   ],
   "source": [
    "int_num=55\n",
    "print(int_num, type(int_num))\n",
    "float =5.885\n",
    "print(float, type(float))\n",
    "complex=4+10.5j\n",
    "print(complex, type(complex))"
   ]
  },
  {
   "cell_type": "code",
   "execution_count": null,
   "id": "6cadc7f2",
   "metadata": {},
   "outputs": [],
   "source": [
    "4. What is an expression made up of? What do all expressions do?\n",
    "An expression is a construct made up of variables, operators, and method invocations, \n",
    "which are constructed according to the syntax of the language, that evaluates to a single value."
   ]
  },
  {
   "cell_type": "code",
   "execution_count": 3,
   "id": "af80c781",
   "metadata": {},
   "outputs": [
    {
     "data": {
      "text/plain": [
       "-20"
      ]
     },
     "execution_count": 3,
     "metadata": {},
     "output_type": "execute_result"
    }
   ],
   "source": [
    "5+10*5-75"
   ]
  },
  {
   "cell_type": "code",
   "execution_count": null,
   "id": "ea19152c",
   "metadata": {},
   "outputs": [],
   "source": [
    "5. This assignment statements, like spam = 10. \n",
    "What is the difference between an expression and a statement?\n",
    "Ans:An expression is a combination of values, variables, and operators.When we type an expression at the prompt, \n",
    "    the interpreter evaluates it, which means that it finds the value of the expression.\n",
    "\n",
    "eg: 5+10*5-75 is an example of a statement\n",
    "\n",
    "A statement is a unit of code that has an effect, like creating a variable or displaying a value.\n",
    "When we type a statement, the interpreter executes it, which means that it does whatever the statement says. \n",
    "In general, statements don’t have values.\n",
    "\n",
    "eg: variable declaration and assignment are statements because they do not return a value"
   ]
  },
  {
   "cell_type": "code",
   "execution_count": 4,
   "id": "407a8f52",
   "metadata": {},
   "outputs": [
    {
     "name": "stdout",
     "output_type": "stream",
     "text": [
      "Prem Nichat\n"
     ]
    }
   ],
   "source": [
    "5+10*5-75 # Is a Expression\n",
    "Name = 'Prem Nichat' # Is a Statement\n",
    "print(\"Prem Nichat\") # Expression Statement"
   ]
  },
  {
   "cell_type": "code",
   "execution_count": null,
   "id": "97aa5f70",
   "metadata": {},
   "outputs": [],
   "source": [
    "6. After running the following code, what does the variable bacon contain?\n",
    "bacon = 22\n",
    "bacon + 1\n"
   ]
  },
  {
   "cell_type": "code",
   "execution_count": 5,
   "id": "322884f4",
   "metadata": {},
   "outputs": [
    {
     "data": {
      "text/plain": [
       "23"
      ]
     },
     "execution_count": 5,
     "metadata": {},
     "output_type": "execute_result"
    }
   ],
   "source": [
    "bacon = 22\n",
    "bacon + 1"
   ]
  },
  {
   "cell_type": "code",
   "execution_count": null,
   "id": "68494402",
   "metadata": {},
   "outputs": [],
   "source": [
    "7. What should the values of the following two terms be?\n",
    "'spam' + 'spamspam'\n",
    "'spam' * 3"
   ]
  },
  {
   "cell_type": "code",
   "execution_count": 7,
   "id": "200a21c7",
   "metadata": {},
   "outputs": [
    {
     "name": "stdout",
     "output_type": "stream",
     "text": [
      "spamspamspam\n",
      "spamspamspam\n"
     ]
    }
   ],
   "source": [
    "print('spam' + 'spamspam') # string concatenation\n",
    "print('spam' * 3)          # string Mmultiplication"
   ]
  },
  {
   "cell_type": "code",
   "execution_count": null,
   "id": "f73d6414",
   "metadata": {},
   "outputs": [],
   "source": [
    "8. Why is eggs a valid variable name while 100 is invalid?\n",
    "Ans:As per python,Variable names cannot begin with a number. The python rules for naming a variable are :-\n",
    "\n",
    "Variable name must start with a letter or the underscore character.\n",
    "Variable name cannot start with a number.\n",
    "Variable name can only contain alpha-numeric characters and underscores (A-z, 0-9, & _ ).\n",
    "Variable names are case-sensitive (name, PREM and prem are three different variables).\n",
    "The reserved words(keywords) cannot be used naming the variable."
   ]
  },
  {
   "cell_type": "code",
   "execution_count": null,
   "id": "7e8729b3",
   "metadata": {},
   "outputs": [],
   "source": [
    "9. What three functions can be used to get the integer, floating-point number, or string\n",
    "version of a value?\n",
    "Ans1:The int(),float(),and str() functions will evaluate to the integer,floating-point number,\n",
    "    string version of the value passed to them."
   ]
  },
  {
   "cell_type": "code",
   "execution_count": null,
   "id": "161c82dc",
   "metadata": {},
   "outputs": [],
   "source": [
    "10. Why does this expression cause an error? How can you fix\n",
    "Ans:This cause of error is 99.because 99 is not a string. \n",
    "    99 must be typecasted to a string to fix this error. the correct way is:"
   ]
  },
  {
   "cell_type": "code",
   "execution_count": 12,
   "id": "e6a18146",
   "metadata": {},
   "outputs": [
    {
     "name": "stdout",
     "output_type": "stream",
     "text": [
      "hello, I have 99 coins\n"
     ]
    }
   ],
   "source": [
    "print('hello, I have '+str(99)+' coins')"
   ]
  },
  {
   "cell_type": "code",
   "execution_count": null,
   "id": "35fe45a9",
   "metadata": {},
   "outputs": [],
   "source": []
  }
 ],
 "metadata": {
  "kernelspec": {
   "display_name": "Python 3 (ipykernel)",
   "language": "python",
   "name": "python3"
  },
  "language_info": {
   "codemirror_mode": {
    "name": "ipython",
    "version": 3
   },
   "file_extension": ".py",
   "mimetype": "text/x-python",
   "name": "python",
   "nbconvert_exporter": "python",
   "pygments_lexer": "ipython3",
   "version": "3.9.12"
  }
 },
 "nbformat": 4,
 "nbformat_minor": 5
}
