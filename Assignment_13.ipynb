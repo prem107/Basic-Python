{
 "cells": [
  {
   "cell_type": "code",
   "execution_count": null,
   "id": "306ef092",
   "metadata": {},
   "outputs": [],
   "source": [
    "1. What advantages do Excel spreadsheets have over CSV spreadsheets?\n",
    "Ans: The Advantages of Excel over CSV are:\n",
    "\n",
    "Excel (XLS and XLSX) file formats are better for storing and analysing complex data.\n",
    "An Excel not only stores data but can also do operations on the data using macros, formulas etc\n",
    "CSV files are plain-text files, Does not contain formatting, formulas, macros, etc. It is also known as flat files"
   ]
  },
  {
   "cell_type": "code",
   "execution_count": null,
   "id": "c03d60c5",
   "metadata": {},
   "outputs": [],
   "source": [
    "2.What do you pass to csv.reader() and csv.writer() to create reader and writer objects?"
   ]
  },
  {
   "cell_type": "code",
   "execution_count": 4,
   "id": "81964529",
   "metadata": {},
   "outputs": [
    {
     "name": "stdout",
     "output_type": "stream",
     "text": [
      "['order_id', 'order_date', 'ship_date', 'ship_mode', 'customer_name', 'segment', 'state', 'country', 'market', 'region', 'product_id', 'category', 'sub_category', 'product_name', 'sales', 'quantity', 'discount', 'profit', 'shipping_cost', 'order_priority', 'year']\n",
      "['AG-2011-2040', '1/1/2011', '1/6/2011', 'Standard Class', 'Toby Braunhardt', 'Consumer', 'Constantine', 'Algeria', 'Africa', 'Africa', 'OFF-TEN-10000025', 'Office Supplies', 'Storage', 'Tenex Lockers, Blue', '408', '2', '0', '106.14', '35.46', 'Medium', '2011']\n",
      "['IN-2011-47883', '1/1/2011', '1/8/2011', 'Standard Class', 'Joseph Holt', 'Consumer', 'New South Wales', 'Australia', 'APAC', 'Oceania', 'OFF-SU-10000618', 'Office Supplies', 'Supplies', 'Acme Trimmer, High Speed', '120', '3', '0.1', '36.036', '9.72', 'Medium', '2011']\n",
      "['HU-2011-1220', '1/1/2011', '1/5/2011', 'Second Class', 'Annie Thurman', 'Consumer', 'Budapest', 'Hungary', 'EMEA', 'EMEA', 'OFF-TEN-10001585', 'Office Supplies', 'Storage', 'Tenex Box, Single Width', '66', '4', '0', '29.64', '8.17', 'High', '2011']\n",
      "['IT-2011-3647632', '1/1/2011', '1/5/2011', 'Second Class', 'Eugene Moren', 'Home Office', 'Stockholm', 'Sweden', 'EU', 'North', 'OFF-PA-10001492', 'Office Supplies', 'Paper', 'Enermax Note Cards, Premium', '45', '3', '0.5', '-26.055', '4.82', 'High', '2011']\n",
      "['IN-2011-47883', '1/1/2011', '1/8/2011', 'Standard Class', 'Joseph Holt', 'Consumer', 'New South Wales', 'Australia', 'APAC', 'Oceania', 'FUR-FU-10003447', 'Furniture', 'Furnishings', 'Eldon Light Bulb, Duo Pack', '114', '5', '0.1', '37.77', '4.7', 'Medium', '2011']\n",
      "['IN-2011-47883', '1/1/2011', '1/8/2011', 'Standard Class', 'Joseph Holt', 'Consumer', 'New South Wales', 'Australia', 'APAC', 'Oceania', 'OFF-PA-10001968', 'Office Supplies', 'Paper', 'Eaton Computer Printout Paper, 8.5 x 11', '55', '2', '0.1', '15.342', '1.8', 'Medium', '2011']\n",
      "['CA-2011-1510', '1/2/2011', '1/6/2011', 'Standard Class', 'Magdelene Morse', 'Consumer', 'Ontario', 'Canada', 'Canada', 'Canada', 'TEC-OKI-10002750', 'Technology', 'Machines', 'Okidata Inkjet, Wireless', '314', '1', '0', '3.12', '24.1', 'Medium', '2011']\n",
      "['IN-2011-79397', '1/3/2011', '1/3/2011', 'Same Day', 'Kean Nguyen', 'Corporate', 'New South Wales', 'Australia', 'APAC', 'Oceania', 'OFF-AP-10000304', 'Office Supplies', 'Appliances', 'Hoover Microwave, White', '276', '1', '0.1', '110.412', '125.32', 'Critical', '2011']\n",
      "['ID-2011-80230', '1/3/2011', '1/9/2011', 'Standard Class', 'Ken Lonsdale', 'Consumer', 'Auckland', 'New Zealand', 'APAC', 'Oceania', 'TEC-CO-10004182', 'Technology', 'Copiers', 'Hewlett Wireless Fax, Laser', '912', '4', '0.4', '-319.464', '107.1', 'Low', '2011']\n",
      "['IZ-2011-4680', '1/3/2011', '1/7/2011', 'Standard Class', 'Lindsay Williams', 'Corporate', 'Ninawa', 'Iraq', 'EMEA', 'EMEA', 'FUR-NOV-10002791', 'Furniture', 'Chairs', 'Novimex Swivel Stool, Set of Two', '667', '4', '0', '253.32', '81.26', 'High', '2011']\n",
      "['IN-2011-65159', '1/3/2011', '1/7/2011', 'Second Class', 'Larry Blacks', 'Consumer', 'National Capital', 'Philippines', 'APAC', 'Southeast Asia', 'OFF-ST-10003020', 'Office Supplies', 'Storage', 'Tenex Lockers, Industrial', '338', '3', '0.45', '-122.8005', '33.75', 'High', '2011']\n",
      "['IN-2011-65159', '1/3/2011', '1/7/2011', 'Second Class', 'Larry Blacks', 'Consumer', 'National Capital', 'Philippines', 'APAC', 'Southeast Asia', 'FUR-TA-10002797', 'Furniture', 'Tables', 'Chromcraft Round Table, Adjustable Height', '211', '1', '0.55', '-70.3995', '21.32', 'High', '2011']\n"
     ]
    }
   ],
   "source": [
    "import csv\n",
    "with open('D:\\Data\\AgentPerformance_2.csv','r') as file:\n",
    "    csv_file = csv.reader(file,delimiter=',')\n",
    "    for ele in csv_file:\n",
    "        print(ele)"
   ]
  },
  {
   "cell_type": "code",
   "execution_count": null,
   "id": "096cd724",
   "metadata": {},
   "outputs": [],
   "source": [
    "3. What modes do File objects for reader and writer objects need to be opened in?\n",
    "Ans: For csv.reader(iterable_file_object), the file objects needed to be opened in read mode mode='r' Whereas for csv.writer(iterable_file_object) the file objects needed to be opened in write mode mode='w'"
   ]
  },
  {
   "cell_type": "code",
   "execution_count": null,
   "id": "d4030fa7",
   "metadata": {},
   "outputs": [],
   "source": [
    "4. What method takes a list argument and writes it to a CSV file?\n",
    "Ans: csv.writer class provides two methods for writing to CSV. They are writerow() and writerows(). writerow() method writes a single row at a time. Whereas writerows() method is used to write multiple rows at a time."
   ]
  },
  {
   "cell_type": "code",
   "execution_count": 6,
   "id": "7ee4e5e6",
   "metadata": {},
   "outputs": [],
   "source": [
    "# Example Program\n",
    "import csv      \n",
    "fields = ['Name', 'Branch', 'Year', 'CGPA'] #column names \n",
    "rows = [ \n",
    "            ['Nikhil', 'COE', '2', '9.0'],  # data rows of csv file \n",
    "            ['Sanchit', 'COE', '2', '9.1'], \n",
    "            ['Ravi', 'IT', '2', '9.3']\n",
    "       ] \n",
    "with open(\"university_records.csv\", 'w') as csvfile: \n",
    "    csvwriter = csv.writer(csvfile) # creating a csv writer object \n",
    "    csvwriter.writerow(fields) # writing the fields \n",
    "    csvwriter.writerows(rows) # writing the data rows "
   ]
  },
  {
   "cell_type": "code",
   "execution_count": null,
   "id": "37517813",
   "metadata": {},
   "outputs": [],
   "source": [
    "5. What do the keyword arguments delimiter and line terminator do?\n",
    "Ans: Lets take the example of a csv file:\n",
    "First Name, Last Name, Age\n",
    "Mano, Vishnu, 24\n",
    "Vishnu, Vardhan, 21\n",
    "Here ',' is Delimiter. We can use any Character as per our needs if required. Similarly Line Terminator comes at end of line by default it is newline and can be changed accourding to Requirement."
   ]
  },
  {
   "cell_type": "code",
   "execution_count": null,
   "id": "041eaa11",
   "metadata": {},
   "outputs": [],
   "source": [
    "6. What function takes a string of JSON data and returns a Python data structure?\n",
    "Ans: loads() method takes a string of JSON data and returns a Python data structure"
   ]
  },
  {
   "cell_type": "code",
   "execution_count": 8,
   "id": "9cbb3bb9",
   "metadata": {},
   "outputs": [
    {
     "name": "stdout",
     "output_type": "stream",
     "text": [
      "{\n",
      "    \"Name\": \"Prem Nichat\",\n",
      "    \"Qualification\": \"Engineering Diploma \",\n",
      "    \"Stream\": \"Electronics Engineering\"\n",
      "}\n",
      "Type of my_details_json is <class 'str'>\n",
      "{'Name': 'Prem Nichat', 'Qualification': 'Engineering Diploma ', 'Stream': 'Electronics Engineering'}\n",
      "Type of my_details is <class 'dict'>\n"
     ]
    }
   ],
   "source": [
    "# Example of json.loads() method\n",
    "import json\n",
    "my_details_json ='''{\n",
    "    \"Name\": \"Prem Nichat\",\n",
    "    \"Qualification\": \"Engineering Diploma \",\n",
    "    \"Stream\": \"Electronics Engineering\"\n",
    "}'''\n",
    "print(my_details_json)\n",
    "print(f'Type of my_details_json is {type(my_details_json)}')\n",
    "my_details = json.loads(my_details_json)\n",
    "print(my_details)\n",
    "print(f'Type of my_details is {type(my_details)}')"
   ]
  },
  {
   "cell_type": "code",
   "execution_count": null,
   "id": "21829e94",
   "metadata": {},
   "outputs": [],
   "source": [
    "7. What function takes a Python data structure and returns a string of JSON data?\n",
    "Ans: dumps() method takes a python data structure and returns a string of JSON data"
   ]
  },
  {
   "cell_type": "code",
   "execution_count": 9,
   "id": "eacec591",
   "metadata": {},
   "outputs": [
    {
     "name": "stdout",
     "output_type": "stream",
     "text": [
      "{'Name': 'Prem Nichat', 'Qualification': 'Engineering Diploma ', 'Stream': 'Electronics Engineering'}\n",
      "Type of my_details is <class 'dict'>\n",
      "{\n",
      "    \"Name\": \"Prem Nichat\",\n",
      "    \"Qualification\": \"Engineering Diploma \",\n",
      "    \"Stream\": \"Electronics Engineering\"\n",
      "}\n",
      "Type of my_details_json is <class 'str'>\n"
     ]
    }
   ],
   "source": [
    "# Example of json.dumps() method\n",
    "import json\n",
    "my_details = {\n",
    "    \"Name\": \"Prem Nichat\",\n",
    "    \"Qualification\": \"Engineering Diploma \",\n",
    "    \"Stream\": \"Electronics Engineering\"\n",
    "}\n",
    "print(my_details)\n",
    "print(f'Type of my_details is {type(my_details)}')\n",
    "my_details_json = json.dumps(my_details, indent=4, sort_keys=True)\n",
    "print(my_details_json)\n",
    "print(f'Type of my_details_json is {type(my_details_json)}')"
   ]
  },
  {
   "cell_type": "code",
   "execution_count": null,
   "id": "9f83e701",
   "metadata": {},
   "outputs": [],
   "source": []
  },
  {
   "cell_type": "code",
   "execution_count": null,
   "id": "5aee68d1",
   "metadata": {},
   "outputs": [],
   "source": []
  },
  {
   "cell_type": "code",
   "execution_count": null,
   "id": "38d2fb56",
   "metadata": {},
   "outputs": [],
   "source": []
  }
 ],
 "metadata": {
  "kernelspec": {
   "display_name": "Python 3 (ipykernel)",
   "language": "python",
   "name": "python3"
  },
  "language_info": {
   "codemirror_mode": {
    "name": "ipython",
    "version": 3
   },
   "file_extension": ".py",
   "mimetype": "text/x-python",
   "name": "python",
   "nbconvert_exporter": "python",
   "pygments_lexer": "ipython3",
   "version": "3.9.12"
  }
 },
 "nbformat": 4,
 "nbformat_minor": 5
}
