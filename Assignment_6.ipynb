{
 "cells": [
  {
   "cell_type": "code",
   "execution_count": null,
   "id": "1f03fc16",
   "metadata": {},
   "outputs": [],
   "source": [
    "1. What are escape characters, and how do you use them?\n",
    "Ans:To insert characters that are illegal in a string, use an escape character.\n",
    "An escape character is a backslash \\ followed by the character you want to insert.\n",
    "example: \\t, \\n"
   ]
  },
  {
   "cell_type": "code",
   "execution_count": null,
   "id": "ab51beb8",
   "metadata": {},
   "outputs": [],
   "source": [
    "2. What do the escape characters n and t stand for ?\n",
    "Ans: \\n is a new line, \\t is a tab\n"
   ]
  },
  {
   "cell_type": "code",
   "execution_count": null,
   "id": "8bcc8d4f",
   "metadata": {},
   "outputs": [],
   "source": [
    "3. What is the way to include backslash character in a string?\n",
    "Ans:The way of \\\\ "
   ]
  },
  {
   "cell_type": "code",
   "execution_count": null,
   "id": "70476802",
   "metadata": {},
   "outputs": [],
   "source": [
    "4.The string \"Howl's Moving Castle\" is a correct value. Why isn't the single quote character in the word Howl's not escaped a problem ?\n",
    "Ans: The string \"Howl's Moving Castle\" escaped the problem because it is wrapped inside double quotes. if its wrapped inside single quotes then we have to use escape character \\' to show single quote in the final output\n",
    "'Howl\\'s Moving Castle' -> 'Howl's Moving Castle'"
   ]
  },
  {
   "cell_type": "code",
   "execution_count": null,
   "id": "5e91613c",
   "metadata": {},
   "outputs": [],
   "source": [
    "5.How do you write a string of newlines if you don't want to use the n character?\n",
    "Ans: Multiline string"
   ]
  },
  {
   "cell_type": "code",
   "execution_count": 1,
   "id": "ad210178",
   "metadata": {},
   "outputs": [
    {
     "name": "stdout",
     "output_type": "stream",
     "text": [
      "I am Reserch and Development Enggineer\n",
      "I work in Starka Innovative\n"
     ]
    }
   ],
   "source": [
    "text='''I am Reserch and Development Enggineer\n",
    "I work in Starka Innovative'''\n",
    "print(text)"
   ]
  },
  {
   "cell_type": "code",
   "execution_count": null,
   "id": "c0636874",
   "metadata": {},
   "outputs": [],
   "source": [
    "#6.What are the values of the given expressions ?\n",
    "'Hello, world!'[1]\n",
    "'Hello, world!'[0:5]\n",
    "'Hello, world!'[:5]\n",
    "'Hello, world!'[3:]"
   ]
  },
  {
   "cell_type": "code",
   "execution_count": 8,
   "id": "c3838693",
   "metadata": {},
   "outputs": [
    {
     "name": "stdout",
     "output_type": "stream",
     "text": [
      "'Hello, world!'[1] = e\n",
      "'Hello, world!'[0:5] = Hello\n",
      "'Hello, world!'[:5] = Hello\n",
      "'Hello, world!'[3:] = lo, world!\n"
     ]
    }
   ],
   "source": [
    "print(\"'Hello, world!'[1] =\", 'Hello, world!'[1])\n",
    "print(\"'Hello, world!'[0:5] =\", 'Hello, world!'[0:5])\n",
    "print(\"'Hello, world!'[:5] =\", 'Hello, world!'[:5])\n",
    "print(\"'Hello, world!'[3:] =\", 'Hello, world!'[3:])"
   ]
  },
  {
   "cell_type": "code",
   "execution_count": null,
   "id": "303623b0",
   "metadata": {},
   "outputs": [],
   "source": [
    "7.What are the values of the following expressions ?\n",
    "'Hello'.upper()\n",
    "'Hello'.upper().isupper()\n",
    "'Hello'.upper().lower()"
   ]
  },
  {
   "cell_type": "code",
   "execution_count": 10,
   "id": "800dfa67",
   "metadata": {},
   "outputs": [
    {
     "name": "stdout",
     "output_type": "stream",
     "text": [
      " 'Hello'.upper() = HELLO\n",
      " 'Hello'.upper().isupper() = True\n",
      " 'Hello'.upper().lower() = hello\n"
     ]
    }
   ],
   "source": [
    "print(\" 'Hello'.upper() =\",'Hello'.upper())\n",
    "print(\" 'Hello'.upper().isupper() =\",'Hello'.upper().isupper())\n",
    "print(\" 'Hello'.upper().lower() =\",'Hello'.upper().lower())"
   ]
  },
  {
   "cell_type": "code",
   "execution_count": null,
   "id": "db71ef0d",
   "metadata": {},
   "outputs": [],
   "source": [
    "#8.What are the values of the following expressions ?\n",
    "'Remember, remember, the fifith of July.'.split()\n",
    "-'.join('There can only one'.split())"
   ]
  },
  {
   "cell_type": "code",
   "execution_count": 14,
   "id": "0cce2b90",
   "metadata": {},
   "outputs": [
    {
     "data": {
      "text/plain": [
       "['Remember,', 'remember,', 'the', 'fifith', 'of', 'July.']"
      ]
     },
     "execution_count": 14,
     "metadata": {},
     "output_type": "execute_result"
    }
   ],
   "source": [
    "'Remember, remember, the fifith of July.'.split()"
   ]
  },
  {
   "cell_type": "code",
   "execution_count": 15,
   "id": "6391a402",
   "metadata": {},
   "outputs": [
    {
     "ename": "SyntaxError",
     "evalue": "invalid syntax (2970573083.py, line 1)",
     "output_type": "error",
     "traceback": [
      "\u001b[1;36m  Input \u001b[1;32mIn [15]\u001b[1;36m\u001b[0m\n\u001b[1;33m    -'.join('There can only one'.split())\u001b[0m\n\u001b[1;37m             ^\u001b[0m\n\u001b[1;31mSyntaxError\u001b[0m\u001b[1;31m:\u001b[0m invalid syntax\n"
     ]
    }
   ],
   "source": [
    "-'.join('There can only one'.split())"
   ]
  },
  {
   "cell_type": "code",
   "execution_count": null,
   "id": "7d45db49",
   "metadata": {},
   "outputs": [],
   "source": [
    "#9.What are the methods for right-justifying, left-justifying and centering a string ?\n",
    "Ans: There are three method\n",
    "    rjust(),\n",
    "    ljust(),\n",
    "    center()"
   ]
  },
  {
   "cell_type": "code",
   "execution_count": null,
   "id": "4544fa78",
   "metadata": {},
   "outputs": [],
   "source": [
    "# 10.What is the best way to remove whitespace characters from the start or end ?\n",
    "Ans: lstrip() and rstrip() , left and right string respectively."
   ]
  },
  {
   "cell_type": "code",
   "execution_count": null,
   "id": "1a51c40d",
   "metadata": {},
   "outputs": [],
   "source": []
  },
  {
   "cell_type": "code",
   "execution_count": null,
   "id": "3895f6ab",
   "metadata": {},
   "outputs": [],
   "source": []
  }
 ],
 "metadata": {
  "kernelspec": {
   "display_name": "Python 3 (ipykernel)",
   "language": "python",
   "name": "python3"
  },
  "language_info": {
   "codemirror_mode": {
    "name": "ipython",
    "version": 3
   },
   "file_extension": ".py",
   "mimetype": "text/x-python",
   "name": "python",
   "nbconvert_exporter": "python",
   "pygments_lexer": "ipython3",
   "version": "3.9.12"
  }
 },
 "nbformat": 4,
 "nbformat_minor": 5
}
